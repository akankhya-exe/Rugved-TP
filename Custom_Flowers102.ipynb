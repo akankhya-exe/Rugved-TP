{
  "nbformat": 4,
  "nbformat_minor": 0,
  "metadata": {
    "colab": {
      "provenance": [],
      "gpuType": "T4"
    },
    "kernelspec": {
      "name": "python3",
      "display_name": "Python 3"
    },
    "language_info": {
      "name": "python"
    },
    "accelerator": "GPU"
  },
  "cells": [
    {
      "cell_type": "code",
      "source": [
        "import tensorflow as tf\n",
        "import numpy as np\n",
        "import scipy.io\n",
        "import glob"
      ],
      "metadata": {
        "id": "_kDS7Sa2vZlr"
      },
      "execution_count": null,
      "outputs": []
    },
    {
      "cell_type": "code",
      "source": [
        "!wget https://www.robots.ox.ac.uk/~vgg/data/flowers/102/102flowers.tgz\n",
        "!wget https://www.robots.ox.ac.uk/~vgg/data/flowers/102/imagelabels.mat"
      ],
      "metadata": {
        "colab": {
          "base_uri": "https://localhost:8080/"
        },
        "id": "A-yj_3q-vbep",
        "outputId": "912185a2-2b1d-4c13-b5cd-06e5a457aa92"
      },
      "execution_count": null,
      "outputs": [
        {
          "output_type": "stream",
          "name": "stdout",
          "text": [
            "--2025-10-06 13:40:01--  https://www.robots.ox.ac.uk/~vgg/data/flowers/102/102flowers.tgz\n",
            "Resolving www.robots.ox.ac.uk (www.robots.ox.ac.uk)... 129.67.94.2\n",
            "Connecting to www.robots.ox.ac.uk (www.robots.ox.ac.uk)|129.67.94.2|:443... connected.\n",
            "HTTP request sent, awaiting response... 301 Moved Permanently\n",
            "Location: https://thor.robots.ox.ac.uk/flowers/102/102flowers.tgz [following]\n",
            "--2025-10-06 13:40:01--  https://thor.robots.ox.ac.uk/flowers/102/102flowers.tgz\n",
            "Resolving thor.robots.ox.ac.uk (thor.robots.ox.ac.uk)... 129.67.95.98\n",
            "Connecting to thor.robots.ox.ac.uk (thor.robots.ox.ac.uk)|129.67.95.98|:443... connected.\n",
            "HTTP request sent, awaiting response... 200 OK\n",
            "Length: 344862509 (329M) [application/octet-stream]\n",
            "Saving to: ‘102flowers.tgz’\n",
            "\n",
            "102flowers.tgz      100%[===================>] 328.89M  26.3MB/s    in 13s     \n",
            "\n",
            "2025-10-06 13:40:15 (25.1 MB/s) - ‘102flowers.tgz’ saved [344862509/344862509]\n",
            "\n",
            "--2025-10-06 13:40:15--  https://www.robots.ox.ac.uk/~vgg/data/flowers/102/imagelabels.mat\n",
            "Resolving www.robots.ox.ac.uk (www.robots.ox.ac.uk)... 129.67.94.2\n",
            "Connecting to www.robots.ox.ac.uk (www.robots.ox.ac.uk)|129.67.94.2|:443... connected.\n",
            "HTTP request sent, awaiting response... 301 Moved Permanently\n",
            "Location: https://thor.robots.ox.ac.uk/flowers/102/imagelabels.mat [following]\n",
            "--2025-10-06 13:40:16--  https://thor.robots.ox.ac.uk/flowers/102/imagelabels.mat\n",
            "Resolving thor.robots.ox.ac.uk (thor.robots.ox.ac.uk)... 129.67.95.98\n",
            "Connecting to thor.robots.ox.ac.uk (thor.robots.ox.ac.uk)|129.67.95.98|:443... connected.\n",
            "HTTP request sent, awaiting response... 200 OK\n",
            "Length: 502 [application/octet-stream]\n",
            "Saving to: ‘imagelabels.mat’\n",
            "\n",
            "imagelabels.mat     100%[===================>]     502  --.-KB/s    in 0s      \n",
            "\n",
            "2025-10-06 13:40:16 (174 MB/s) - ‘imagelabels.mat’ saved [502/502]\n",
            "\n"
          ]
        }
      ]
    },
    {
      "cell_type": "code",
      "source": [
        "!mkdir -p data\n",
        "!mv imagelabels.mat data/"
      ],
      "metadata": {
        "id": "4QFYnwqlwCH-"
      },
      "execution_count": null,
      "outputs": []
    },
    {
      "cell_type": "code",
      "source": [
        "!tar -xzf 102flowers.tgz"
      ],
      "metadata": {
        "id": "3Qei4WfXwFON"
      },
      "execution_count": null,
      "outputs": []
    },
    {
      "cell_type": "code",
      "source": [
        "img_labels_mat = scipy.io.loadmat('data/imagelabels.mat')\n",
        "targets = img_labels_mat['labels'][0]\n",
        "targets = np.array(targets) - 1"
      ],
      "metadata": {
        "id": "IUDWKWaowF3n"
      },
      "execution_count": null,
      "outputs": []
    },
    {
      "cell_type": "code",
      "source": [
        "image_paths = sorted(glob.glob('jpg/*.jpg'))\n",
        "total_examples = len(image_paths)"
      ],
      "metadata": {
        "id": "SQ0c12WGw54j"
      },
      "execution_count": null,
      "outputs": []
    },
    {
      "cell_type": "code",
      "source": [
        "path_label_dataset = tf.data.Dataset.from_tensor_slices((image_paths, targets))\n",
        "path_label_dataset = path_label_dataset.shuffle(buffer_size=total_examples, seed=42)"
      ],
      "metadata": {
        "id": "eNnTUYHqw9bU"
      },
      "execution_count": null,
      "outputs": []
    },
    {
      "cell_type": "code",
      "source": [
        "train_size = int(0.8 * total_examples)\n",
        "validation_size = int(0.1 * total_examples)"
      ],
      "metadata": {
        "id": "qw6yuhuIxCG3"
      },
      "execution_count": null,
      "outputs": []
    },
    {
      "cell_type": "code",
      "source": [
        "ds_train = path_label_dataset.take(train_size)\n",
        "ds_validation = path_label_dataset.skip(train_size).take(validation_size)\n",
        "ds_test = path_label_dataset.skip(train_size + validation_size)"
      ],
      "metadata": {
        "id": "F4BoUsmXxG1x"
      },
      "execution_count": null,
      "outputs": []
    },
    {
      "cell_type": "code",
      "source": [
        "img_size = (128, 128)\n",
        "batch_size = 32\n",
        "num_classes = 102\n",
        "autotune = tf.data.AUTOTUNE\n",
        "\n",
        "def parse_image(filepath, label):\n",
        "    image = tf.io.read_file(filepath)\n",
        "    image = tf.io.decode_jpeg(image, channels=3)\n",
        "    image = tf.image.resize(image, img_size)\n",
        "    label = tf.one_hot(label, depth=num_classes)\n",
        "    return image, label\n",
        "\n",
        "train_dataset = ds_train.map(parse_image, num_parallel_calls=autotune).cache().batch(batch_size).prefetch(autotune)\n",
        "validation_dataset = ds_validation.map(parse_image, num_parallel_calls=autotune).cache().batch(batch_size).prefetch(autotune)\n",
        "test_dataset = ds_test.map(parse_image, num_parallel_calls=autotune).cache().batch(batch_size).prefetch(autotune)"
      ],
      "metadata": {
        "id": "0wtpuxjrxJ_G"
      },
      "execution_count": null,
      "outputs": []
    },
    {
      "cell_type": "code",
      "source": [
        "from tensorflow.keras import layers\n",
        "basic_model = tf.keras.Sequential([\n",
        "    layers.Input(shape=img_size + (3,)),\n",
        "    layers.Rescaling(1./255),\n",
        "    keras.layers.Conv2D(32, 3, activation='relu'),\n",
        "    keras.layers.MaxPooling2D(),\n",
        "    keras.layers.Conv2D(64, 3, activation='relu'),\n",
        "    keras.layers.MaxPooling2D(),\n",
        "    keras.layers.Conv2D(128, 3, activation='relu'),\n",
        "    keras.layers.MaxPooling2D(),\n",
        "    keras.layers.Flatten(),\n",
        "    keras.layers.Dense(512, activation='relu'),\n",
        "    layers.Dropout(0.5),\n",
        "    keras.layers.Dense(num_classes, activation=\"softmax\")\n",
        "])\n",
        "\n"
      ],
      "metadata": {
        "id": "N_vIGTNlzDrJ"
      },
      "execution_count": null,
      "outputs": []
    },
    {
      "cell_type": "code",
      "source": [
        "basic_model.compile(\n",
        "    optimizer='adam',\n",
        "    loss='categorical_crossentropy',\n",
        "    metrics=['accuracy'])"
      ],
      "metadata": {
        "id": "VmXQuzQ02Sj8"
      },
      "execution_count": null,
      "outputs": []
    },
    {
      "cell_type": "code",
      "source": [
        "early_stopping = keras.callbacks.EarlyStopping(patience=3,\n",
        "    restore_best_weights=True)\n",
        "\n",
        "basic_model.fit(train_dataset,\n",
        "    validation_data=validation_dataset,\n",
        "    callbacks=[early_stopping],\n",
        "    epochs=20)"
      ],
      "metadata": {
        "colab": {
          "base_uri": "https://localhost:8080/"
        },
        "id": "0_0uOUvW2n7-",
        "outputId": "c0aba1b1-2a21-40f1-b27c-d7fec80cef96"
      },
      "execution_count": null,
      "outputs": [
        {
          "output_type": "stream",
          "name": "stdout",
          "text": [
            "Epoch 1/20\n",
            "\u001b[1m205/205\u001b[0m \u001b[32m━━━━━━━━━━━━━━━━━━━━\u001b[0m\u001b[37m\u001b[0m \u001b[1m22s\u001b[0m 78ms/step - accuracy: 0.0518 - loss: 4.3594 - val_accuracy: 0.1528 - val_loss: 3.5447\n",
            "Epoch 2/20\n",
            "\u001b[1m205/205\u001b[0m \u001b[32m━━━━━━━━━━━━━━━━━━━━\u001b[0m\u001b[37m\u001b[0m \u001b[1m5s\u001b[0m 22ms/step - accuracy: 0.1618 - loss: 3.4638 - val_accuracy: 0.3411 - val_loss: 2.6225\n",
            "Epoch 3/20\n",
            "\u001b[1m205/205\u001b[0m \u001b[32m━━━━━━━━━━━━━━━━━━━━\u001b[0m\u001b[37m\u001b[0m \u001b[1m5s\u001b[0m 22ms/step - accuracy: 0.2899 - loss: 2.7996 - val_accuracy: 0.5122 - val_loss: 1.9415\n",
            "Epoch 4/20\n",
            "\u001b[1m205/205\u001b[0m \u001b[32m━━━━━━━━━━━━━━━━━━━━\u001b[0m\u001b[37m\u001b[0m \u001b[1m4s\u001b[0m 21ms/step - accuracy: 0.4140 - loss: 2.2387 - val_accuracy: 0.6650 - val_loss: 1.3934\n",
            "Epoch 5/20\n",
            "\u001b[1m205/205\u001b[0m \u001b[32m━━━━━━━━━━━━━━━━━━━━\u001b[0m\u001b[37m\u001b[0m \u001b[1m4s\u001b[0m 22ms/step - accuracy: 0.5233 - loss: 1.7446 - val_accuracy: 0.7042 - val_loss: 1.1723\n",
            "Epoch 6/20\n",
            "\u001b[1m205/205\u001b[0m \u001b[32m━━━━━━━━━━━━━━━━━━━━\u001b[0m\u001b[37m\u001b[0m \u001b[1m4s\u001b[0m 21ms/step - accuracy: 0.6263 - loss: 1.3121 - val_accuracy: 0.7971 - val_loss: 0.8339\n",
            "Epoch 7/20\n",
            "\u001b[1m205/205\u001b[0m \u001b[32m━━━━━━━━━━━━━━━━━━━━\u001b[0m\u001b[37m\u001b[0m \u001b[1m4s\u001b[0m 22ms/step - accuracy: 0.7047 - loss: 1.0049 - val_accuracy: 0.8411 - val_loss: 0.6758\n",
            "Epoch 8/20\n",
            "\u001b[1m205/205\u001b[0m \u001b[32m━━━━━━━━━━━━━━━━━━━━\u001b[0m\u001b[37m\u001b[0m \u001b[1m4s\u001b[0m 22ms/step - accuracy: 0.7771 - loss: 0.7291 - val_accuracy: 0.8790 - val_loss: 0.5295\n",
            "Epoch 9/20\n",
            "\u001b[1m205/205\u001b[0m \u001b[32m━━━━━━━━━━━━━━━━━━━━\u001b[0m\u001b[37m\u001b[0m \u001b[1m4s\u001b[0m 22ms/step - accuracy: 0.8163 - loss: 0.6003 - val_accuracy: 0.8839 - val_loss: 0.5042\n",
            "Epoch 10/20\n",
            "\u001b[1m205/205\u001b[0m \u001b[32m━━━━━━━━━━━━━━━━━━━━\u001b[0m\u001b[37m\u001b[0m \u001b[1m5s\u001b[0m 22ms/step - accuracy: 0.8499 - loss: 0.5027 - val_accuracy: 0.9022 - val_loss: 0.4303\n",
            "Epoch 11/20\n",
            "\u001b[1m205/205\u001b[0m \u001b[32m━━━━━━━━━━━━━━━━━━━━\u001b[0m\u001b[37m\u001b[0m \u001b[1m4s\u001b[0m 22ms/step - accuracy: 0.8727 - loss: 0.4008 - val_accuracy: 0.9242 - val_loss: 0.3781\n",
            "Epoch 12/20\n",
            "\u001b[1m205/205\u001b[0m \u001b[32m━━━━━━━━━━━━━━━━━━━━\u001b[0m\u001b[37m\u001b[0m \u001b[1m4s\u001b[0m 21ms/step - accuracy: 0.9007 - loss: 0.3231 - val_accuracy: 0.9120 - val_loss: 0.4491\n",
            "Epoch 13/20\n",
            "\u001b[1m205/205\u001b[0m \u001b[32m━━━━━━━━━━━━━━━━━━━━\u001b[0m\u001b[37m\u001b[0m \u001b[1m4s\u001b[0m 22ms/step - accuracy: 0.9166 - loss: 0.2595 - val_accuracy: 0.9034 - val_loss: 0.4589\n",
            "Epoch 14/20\n",
            "\u001b[1m205/205\u001b[0m \u001b[32m━━━━━━━━━━━━━━━━━━━━\u001b[0m\u001b[37m\u001b[0m \u001b[1m4s\u001b[0m 21ms/step - accuracy: 0.9227 - loss: 0.2480 - val_accuracy: 0.9156 - val_loss: 0.4253\n"
          ]
        },
        {
          "output_type": "execute_result",
          "data": {
            "text/plain": [
              "<keras.src.callbacks.history.History at 0x7ac6cf9d5f70>"
            ]
          },
          "metadata": {},
          "execution_count": 24
        }
      ]
    },
    {
      "cell_type": "code",
      "source": [
        "loss, accuracy = basic_model.evaluate(validation_dataset)\n",
        "print(f\"Validation Loss: {loss:.4f}\")\n",
        "print(f\"Validation Accuracy: {accuracy*100:.2f}%\")"
      ],
      "metadata": {
        "colab": {
          "base_uri": "https://localhost:8080/"
        },
        "id": "ZWFABWfe4ykM",
        "outputId": "a66141c7-0189-47d0-bf9b-b0d93bda19d9"
      },
      "execution_count": null,
      "outputs": [
        {
          "output_type": "stream",
          "name": "stdout",
          "text": [
            "\u001b[1m26/26\u001b[0m \u001b[32m━━━━━━━━━━━━━━━━━━━━\u001b[0m\u001b[37m\u001b[0m \u001b[1m1s\u001b[0m 27ms/step - accuracy: 0.9315 - loss: 0.3488\n",
            "Validation Loss: 0.3781\n",
            "Validation Accuracy: 92.42%\n"
          ]
        }
      ]
    }
  ]
}
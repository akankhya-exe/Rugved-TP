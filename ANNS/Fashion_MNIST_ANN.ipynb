{
  "nbformat": 4,
  "nbformat_minor": 0,
  "metadata": {
    "colab": {
      "provenance": [],
      "gpuType": "T4"
    },
    "kernelspec": {
      "name": "python3",
      "display_name": "Python 3"
    },
    "language_info": {
      "name": "python"
    },
    "accelerator": "GPU"
  },
  "cells": [
    {
      "cell_type": "code",
      "execution_count": null,
      "metadata": {
        "id": "GOde2w-CDO8I"
      },
      "outputs": [],
      "source": [
        "import numpy as np\n",
        "import tensorflow as tf\n",
        "from tensorflow.keras.datasets import fashion_mnist\n",
        "import matplotlib.pyplot as plt"
      ]
    },
    {
      "cell_type": "code",
      "source": [
        "(train_x_orig, train_y_orig,) , (test_x_orig, test_y_orig)= fashion_mnist.load_data()"
      ],
      "metadata": {
        "id": "Ft75zUAGDb_J",
        "colab": {
          "base_uri": "https://localhost:8080/"
        },
        "outputId": "c5883fba-c3b4-4a0c-c8b6-1ee0f58ef2fc"
      },
      "execution_count": null,
      "outputs": [
        {
          "output_type": "stream",
          "name": "stdout",
          "text": [
            "Downloading data from https://storage.googleapis.com/tensorflow/tf-keras-datasets/train-labels-idx1-ubyte.gz\n",
            "\u001b[1m29515/29515\u001b[0m \u001b[32m━━━━━━━━━━━━━━━━━━━━\u001b[0m\u001b[37m\u001b[0m \u001b[1m0s\u001b[0m 0us/step\n",
            "Downloading data from https://storage.googleapis.com/tensorflow/tf-keras-datasets/train-images-idx3-ubyte.gz\n",
            "\u001b[1m26421880/26421880\u001b[0m \u001b[32m━━━━━━━━━━━━━━━━━━━━\u001b[0m\u001b[37m\u001b[0m \u001b[1m1s\u001b[0m 0us/step\n",
            "Downloading data from https://storage.googleapis.com/tensorflow/tf-keras-datasets/t10k-labels-idx1-ubyte.gz\n",
            "\u001b[1m5148/5148\u001b[0m \u001b[32m━━━━━━━━━━━━━━━━━━━━\u001b[0m\u001b[37m\u001b[0m \u001b[1m0s\u001b[0m 0us/step\n",
            "Downloading data from https://storage.googleapis.com/tensorflow/tf-keras-datasets/t10k-images-idx3-ubyte.gz\n",
            "\u001b[1m4422102/4422102\u001b[0m \u001b[32m━━━━━━━━━━━━━━━━━━━━\u001b[0m\u001b[37m\u001b[0m \u001b[1m1s\u001b[0m 0us/step\n"
          ]
        }
      ]
    },
    {
      "cell_type": "code",
      "source": [
        "# Shape of images\n",
        "print(f\"Shape of training images: {train_x_orig.shape}\")\n",
        "print(f\"Shape of training labels: {train_y_orig.shape}\")\n",
        "print(f\"Shape of test images: {test_x_orig.shape}\")\n",
        "print(f\"Shape of test labels: {test_y_orig.shape}\")"
      ],
      "metadata": {
        "colab": {
          "base_uri": "https://localhost:8080/"
        },
        "id": "xoLue7uTFYLP",
        "outputId": "ebc75e45-8b25-42b1-a904-49f8ac60f00e"
      },
      "execution_count": null,
      "outputs": [
        {
          "output_type": "stream",
          "name": "stdout",
          "text": [
            "Shape of training images: (60000, 28, 28)\n",
            "Shape of training labels: (60000,)\n",
            "Shape of test images: (10000, 28, 28)\n",
            "Shape of test labels: (10000,)\n"
          ]
        }
      ]
    },
    {
      "cell_type": "code",
      "source": [
        "FASHION_MNIST_LABELS = {\n",
        "    0: \"T-shirt/top\",\n",
        "    1: \"Trouser\",\n",
        "    2: \"Pullover\",\n",
        "    3: \"Dress\",\n",
        "    4: \"Coat\",\n",
        "    5: \"Sandal\",\n",
        "    6: \"Shirt\",\n",
        "    7: \"Sneaker\",\n",
        "    8: \"Bag\",\n",
        "    9: \"Ankle boot\",\n",
        "}"
      ],
      "metadata": {
        "id": "QX39OnGWNPlu"
      },
      "execution_count": null,
      "outputs": []
    },
    {
      "cell_type": "code",
      "source": [
        "index = 7\n",
        "plt.imshow(train_x_orig[index], cmap='gray')\n",
        "print(\"y = \" + str(train_y_orig[index]) + \". It's a \" + FASHION_MNIST_LABELS[train_y_orig[index]] + \" picture.\")\n",
        "plt.show()"
      ],
      "metadata": {
        "colab": {
          "base_uri": "https://localhost:8080/",
          "height": 447
        },
        "id": "qpzRfzsZGmft",
        "outputId": "fb189033-1b74-4a1a-c803-50201fbd0194"
      },
      "execution_count": null,
      "outputs": [
        {
          "output_type": "stream",
          "name": "stdout",
          "text": [
            "y = 2. It's a Pullover picture.\n"
          ]
        },
        {
          "output_type": "display_data",
          "data": {
            "text/plain": [
              "<Figure size 640x480 with 1 Axes>"
            ],
            "image/png": "[encoded data removed]"
          },
          "metadata": {}
        }
      ]
    },
    {
      "cell_type": "code",
      "source": [
        "# Flattening the images\n",
        "train_x_flatten=train_x_orig.reshape(train_x_orig.shape[0], -1).T\n",
        "test_x_flatten=test_x_orig.reshape(test_x_orig.shape[0], -1).T\n",
        "\n",
        "train_x=train_x_flatten/255\n",
        "test_x=test_x_flatten/255\n",
        "\n",
        "\n",
        "print(f\"Shape of flattened training images: {train_x.shape}\")\n",
        "print(f\"Shape of flattened test images): {test_x.shape}\\n\")"
      ],
      "metadata": {
        "colab": {
          "base_uri": "https://localhost:8080/"
        },
        "id": "Rx1HOb6qNU0Q",
        "outputId": "eda800c9-f95f-4025-fb8e-6f4d3eb0fe3c"
      },
      "execution_count": null,
      "outputs": [
        {
          "output_type": "stream",
          "name": "stdout",
          "text": [
            "Shape of flattened training images: (784, 60000)\n",
            "Shape of flattened test images): (784, 10000)\n",
            "\n"
          ]
        }
      ]
    },
    {
      "cell_type": "code",
      "source": [
        "def one_hot_encoder(Y, C):\n",
        "  # Y is the numpy array of labels\n",
        "  # C is the number of classes\n",
        "  Y_squeezed = np.squeeze(Y)\n",
        "  Y_encoded = np.eye(C)[Y_squeezed.reshape(-1)].T\n",
        "  return Y_encoded\n",
        "\n",
        "# Number of classes\n",
        "n_classes = 10\n",
        "\n",
        "# Encode the original integer labels and store in the final variable 'train_y'\n",
        "train_y = one_hot_encoder(train_y_orig, n_classes)\n",
        "test_y = one_hot_encoder(test_y_orig, n_classes)\n",
        "\n",
        "print(f\"Shape of one-hot training labels (train_y): {train_y.shape}\")\n",
        "print(f\"Shape of one-hot test labels (test_y):     {test_y.shape}\\n\")\n",
        "\n",
        "# Check an example using the original and newly encoded labels\n",
        "index = 9\n",
        "print(f\"Original label for example {index}: {train_y_orig[index]}\")\n",
        "print(f\"One-hot label for example {index}:\\n{train_y[:, index]}\")\n"
      ],
      "metadata": {
        "colab": {
          "base_uri": "https://localhost:8080/"
        },
        "id": "tl-nFXmNRsVN",
        "outputId": "f3f315dc-ad95-4189-e423-5624a3d76228"
      },
      "execution_count": null,
      "outputs": [
        {
          "output_type": "stream",
          "name": "stdout",
          "text": [
            "Shape of one-hot training labels (train_y): (10, 60000)\n",
            "Shape of one-hot test labels (test_y):     (10, 10000)\n",
            "\n",
            "Original label for example 9: 5\n",
            "One-hot label for example 9:\n",
            "[0. 0. 0. 0. 0. 1. 0. 0. 0. 0.]\n"
          ]
        }
      ]
    },
    {
      "cell_type": "code",
      "source": [
        "def initialize_parameters_he(layers_dims):\n",
        "    # layers_dims is an array that contains the size of each layer\n",
        "    np.random.seed(3)\n",
        "    parameters={}\n",
        "    L=len(layers_dims)-1\n",
        "\n",
        "    for l in range (1, L+1):\n",
        "        parameters['W' + str(l)] = np.random.randn(layers_dims[l], layers_dims[l-1]) * np.sqrt(2 / layers_dims[l-1])\n",
        "        parameters['b' + str(l)] = np.zeros((layers_dims[l], 1))\n",
        "\n",
        "    return parameters"
      ],
      "metadata": {
        "id": "QItYQ0V1SYHn"
      },
      "execution_count": null,
      "outputs": []
    },
    {
      "cell_type": "code",
      "source": [
        "# Forward pass function\n",
        "def relu(Z):\n",
        "    A = np.maximum(0, Z)\n",
        "    cache = Z\n",
        "    return A, cache\n",
        "\n",
        "def softmax(Z):\n",
        "    t = np.exp(Z - np.max(Z, axis=0))\n",
        "    A = t / np.sum(t, axis=0, keepdims=True)\n",
        "    cache = Z\n",
        "    return A, cache\n",
        "\n",
        "def forward(A, W, b):\n",
        "    Z = np.dot(W, A) + b\n",
        "    cache = (A, W, b)\n",
        "    return Z, cache\n",
        "\n",
        "def activation(A_prev, W, b, activation_type):\n",
        "    Z, linear_cache = forward(A_prev, W, b)\n",
        "\n",
        "    if activation_type == \"relu\":\n",
        "        A, activation_cache = relu(Z)\n",
        "    elif activation_type == \"softmax\":\n",
        "        A, activation_cache = softmax(Z)\n",
        "\n",
        "    cache = (linear_cache, activation_cache)\n",
        "\n",
        "    return A, cache\n",
        "\n",
        "def L_model_forward(X, parameters):\n",
        "    # Linear -> ReLU (L-1) ---> Softmax (last layer)\n",
        "    caches = []\n",
        "    A = X\n",
        "    L = len(parameters) // 2\n",
        "\n",
        "    # Loop for layer 1 to L-1\n",
        "    for l in range(1, L):\n",
        "        A_prev = A\n",
        "\n",
        "        A, cache = activation(A_prev, parameters['W' + str(l)], parameters['b' + str(l)], activation_type=\"relu\")\n",
        "        caches.append(cache)\n",
        "\n",
        "    # Softmax for the last layer\n",
        "    AL, cache = activation(A, parameters['W' + str(L)], parameters['b' + str(L)], activation_type=\"softmax\")\n",
        "    caches.append(cache)\n",
        "\n",
        "    return AL, caches"
      ],
      "metadata": {
        "id": "ShxDwIGQV3L1"
      },
      "execution_count": null,
      "outputs": []
    },
    {
      "cell_type": "code",
      "source": [
        "# Cost function\n",
        "def compute_cost(AL, Y):\n",
        "  m = Y.shape[1]\n",
        "  cost = (-1/m) * np.sum(Y * np.log(AL + 1e-8))\n",
        "  cost = np.squeeze(cost)\n",
        "  return cost"
      ],
      "metadata": {
        "id": "XlhzYPEAWvin"
      },
      "execution_count": null,
      "outputs": []
    },
    {
      "cell_type": "code",
      "source": [
        "# Back propagation\n",
        "def relu_backward(dA, cache):\n",
        "    Z = cache\n",
        "    dZ = np.array(dA, copy=True)\n",
        "    dZ[Z <= 0] = 0\n",
        "    return dZ\n",
        "\n",
        "def linear_backward(dZ, cache):\n",
        "    A_prev, W, b = cache\n",
        "    m = A_prev.shape[1]\n",
        "\n",
        "    dW = (1./m) * np.dot(dZ, A_prev.T)\n",
        "    db = (1./m) * np.sum(dZ, axis=1, keepdims=True)\n",
        "    dA_prev = np.dot(W.T, dZ)\n",
        "\n",
        "    return dA_prev, dW, db\n",
        "\n",
        "\n",
        "def linear_activation_backward(dA, cache, activation):\n",
        "\n",
        "    linear_cache, activation_cache = cache\n",
        "\n",
        "    if activation == \"relu\":\n",
        "        dZ = relu_backward(dA, activation_cache)\n",
        "        dA_prev, dW, db = linear_backward(dZ, linear_cache)\n",
        "\n",
        "\n",
        "    return dA_prev, dW, db\n",
        "\n",
        "\n",
        "def L_model_backward(AL, Y, caches):\n",
        "    grads = {}\n",
        "    L = len(caches)\n",
        "    m = AL.shape[1]\n",
        "    Y = Y.reshape(AL.shape)\n",
        "\n",
        "    dZL = AL - Y\n",
        "\n",
        "    current_cache = caches[L-1]\n",
        "    linear_cache_L, _ = current_cache\n",
        "    grads[\"dA\" + str(L-1)], grads[\"dW\" + str(L)], grads[\"db\" + str(L)] = linear_backward(dZL, linear_cache_L)\n",
        "\n",
        "    for l in reversed(range(L-1)):\n",
        "        current_cache = caches[l]\n",
        "        dA_input = grads[\"dA\" + str(l+1)]\n",
        "        dA_prev_temp, dW_temp, db_temp = linear_activation_backward(dA_input, current_cache, activation=\"relu\")\n",
        "\n",
        "        grads[\"dA\" + str(l)] = dA_prev_temp\n",
        "        grads[\"dW\" + str(l + 1)] = dW_temp\n",
        "        grads[\"db\" + str(l + 1)] = db_temp\n",
        "\n",
        "\n",
        "    return grads\n",
        "\n"
      ],
      "metadata": {
        "id": "VTac0hqdwcGc"
      },
      "execution_count": null,
      "outputs": []
    },
    {
      "cell_type": "code",
      "source": [
        "def update_parameters(parameters, grads, learning_rate):\n",
        "  L=len(parameters)//2\n",
        "\n",
        "  for l in range(1, L+1):\n",
        "    parameters[\"W\" + str(l)] = parameters[\"W\" + str(l)] - learning_rate * grads[\"dW\" + str(l)]\n",
        "    parameters[\"b\" + str(l)] = parameters[\"b\" + str(l)] - learning_rate * grads[\"db\" + str(l)]\n",
        "\n",
        "\n",
        "  return parameters\n"
      ],
      "metadata": {
        "id": "EwNsWU9GyvuI"
      },
      "execution_count": null,
      "outputs": []
    },
    {
      "cell_type": "code",
      "source": [
        "# Main model\n",
        "def L_layer_model(X, Y, layers_dims, learning_rate=0.0075, num_iterations=3000, print_cost=False):\n",
        "    np.random.seed(1)\n",
        "    costs = []\n",
        "\n",
        "    parameters = initialize_parameters_he(layers_dims)\n",
        "\n",
        "    for i in range(0, num_iterations):\n",
        "      AL, caches = L_model_forward(X, parameters)\n",
        "      cost = compute_cost(AL, Y)\n",
        "      grads = L_model_backward(AL, Y, caches)\n",
        "      parameters = update_parameters(parameters, grads, learning_rate)\n",
        "\n",
        "      if print_cost and i % 100 == 0:\n",
        "            print (\"Cost after iteration %i: %f\" %(i, cost))\n",
        "            costs.append(cost)\n",
        "\n",
        "    return parameters, costs"
      ],
      "metadata": {
        "id": "Eb-jn7uZ1x9w"
      },
      "execution_count": null,
      "outputs": []
    },
    {
      "cell_type": "code",
      "source": [
        "# Prediction\n",
        "def predict(X, y, parameters):\n",
        "  m=X.shape[1]\n",
        "  n=len(parameters)//2\n",
        "  p = np.zeros((1,m), dtype=int)\n",
        "\n",
        "  probas, caches = L_model_forward(X, parameters)\n",
        "  predictions = np.argmax(probas, axis=0)\n",
        "\n",
        "  true_labels = np.argmax(y, axis=0)\n",
        "\n",
        "  accuracy = np.mean(predictions == true_labels)\n",
        "\n",
        "  print(f\"Accuracy: {accuracy}\")\n",
        "\n",
        "  return predictions, accuracy\n",
        "\n"
      ],
      "metadata": {
        "id": "twtpCn4Q2_0V"
      },
      "execution_count": null,
      "outputs": []
    },
    {
      "cell_type": "code",
      "source": [
        "layers_dims = [train_x.shape[0], 25, 12, 10]\n",
        "parameters, costs = L_layer_model(train_x, train_y, layers_dims, num_iterations=2500, print_cost=True)\n",
        "\n",
        "print(\"\\nEvaluating on Training Set\")\n",
        "pred_train, accuracy_train = predict(train_x, train_y, parameters)\n",
        "\n",
        "print(\"\\nEvaluating on Test Set\")\n",
        "pred_test, accuracy_test = predict(test_x, test_y, parameters)\n",
        "\n",
        "\n",
        "plt.plot(np.squeeze(costs))\n",
        "plt.ylabel('cost')\n",
        "plt.xlabel('iterations (per hundreds)')\n",
        "plt.title(\"Learning rate =\" + str(0.0075))\n",
        "plt.show()\n"
      ],
      "metadata": {
        "colab": {
          "base_uri": "https://localhost:8080/",
          "height": 1000
        },
        "id": "fe9Wat9h4e7C",
        "outputId": "0a555fdd-4064-442a-a4ee-2f33bfa0c6f3"
      },
      "execution_count": null,
      "outputs": [
        {
          "output_type": "stream",
          "name": "stdout",
          "text": [
            "Cost after iteration 0: 2.322153\n",
            "Cost after iteration 100: 1.888709\n",
            "Cost after iteration 200: 1.523320\n",
            "Cost after iteration 300: 1.235383\n",
            "Cost after iteration 400: 1.053558\n",
            "Cost after iteration 500: 0.946385\n",
            "Cost after iteration 600: 0.878148\n",
            "Cost after iteration 700: 0.829238\n",
            "Cost after iteration 800: 0.791439\n",
            "Cost after iteration 900: 0.760707\n",
            "Cost after iteration 1000: 0.734432\n",
            "Cost after iteration 1100: 0.711415\n",
            "Cost after iteration 1200: 0.691025\n",
            "Cost after iteration 1300: 0.672828\n",
            "Cost after iteration 1400: 0.656471\n",
            "Cost after iteration 1500: 0.641745\n",
            "Cost after iteration 1600: 0.628394\n",
            "Cost after iteration 1700: 0.616289\n",
            "Cost after iteration 1800: 0.605186\n",
            "Cost after iteration 1900: 0.594942\n",
            "Cost after iteration 2000: 0.585561\n",
            "Cost after iteration 2100: 0.576998\n",
            "Cost after iteration 2200: 0.569147\n",
            "Cost after iteration 2300: 0.561898\n",
            "Cost after iteration 2400: 0.555181\n",
            "\n",
            "--- Evaluating on Training Set ---\n",
            "Accuracy: 0.811\n",
            "\n",
            "--- Evaluating on Test Set ---\n",
            "Accuracy: 0.7989\n"
          ]
        },
        {
          "output_type": "display_data",
          "data": {
            "text/plain": [
              "<Figure size 640x480 with 1 Axes>"
            ],
            "image/png": "[encoded data removed]"
          },
          "metadata": {}
        }
      ]
    }
  ]
}